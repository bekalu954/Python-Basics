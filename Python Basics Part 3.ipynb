{
 "cells": [
  {
   "cell_type": "markdown",
   "id": "69000f11",
   "metadata": {},
   "source": [
    "# Assignment 2-1\n",
    "# Coding Exercise 3:"
   ]
  },
  {
   "cell_type": "code",
   "execution_count": 1,
   "id": "4c16f32b",
   "metadata": {},
   "outputs": [
    {
     "name": "stdout",
     "output_type": "stream",
     "text": [
      "r\n"
     ]
    }
   ],
   "source": [
    "#Write a string that returns just the letter ‘r’ from ‘Hello World’\n",
    "print('Hello World'[8])"
   ]
  },
  {
   "cell_type": "code",
   "execution_count": 2,
   "id": "9a1f3656",
   "metadata": {},
   "outputs": [
    {
     "name": "stdout",
     "output_type": "stream",
     "text": [
      "ink\n"
     ]
    }
   ],
   "source": [
    "#String slicing to grab the word ‘ink’ from the word  ‘thinker’\n",
    "print('thinker'[2:5])"
   ]
  },
  {
   "cell_type": "code",
   "execution_count": 3,
   "id": "03690985",
   "metadata": {},
   "outputs": [
    {
     "name": "stdout",
     "output_type": "stream",
     "text": [
      "e\n"
     ]
    }
   ],
   "source": [
    "#S=’hello’,what is the output of h[1]\n",
    "s = 'hello'\n",
    "print(s[1])"
   ]
  },
  {
   "cell_type": "code",
   "execution_count": 4,
   "id": "4989daac",
   "metadata": {},
   "outputs": [
    {
     "name": "stdout",
     "output_type": "stream",
     "text": [
      "mmy\n"
     ]
    }
   ],
   "source": [
    "#S=’Sammy’ what is the output of s[2:]”\n",
    "s = 'Sammy'\n",
    "print(s[2:])"
   ]
  },
  {
   "cell_type": "code",
   "execution_count": 5,
   "id": "4011ccfe",
   "metadata": {},
   "outputs": [
    {
     "data": {
      "text/plain": [
       "{'M', 'i', 'p', 's'}"
      ]
     },
     "execution_count": 5,
     "metadata": {},
     "output_type": "execute_result"
    }
   ],
   "source": [
    "#turn the word ‘Mississippi’ to distinct character word\n",
    "set('Mississippi')"
   ]
  },
  {
   "cell_type": "code",
   "execution_count": 6,
   "id": "bca70145",
   "metadata": {},
   "outputs": [
    {
     "name": "stdout",
     "output_type": "stream",
     "text": [
      "Enter number of phrases : 3\n",
      "Input data: ada\n",
      "Input data: baba\n",
      "Input data: mom\n",
      "Y\n"
     ]
    }
   ],
   "source": [
    "# Program to check whether the phrase is palindrome or not\n",
    "my_str = int(input((\"Enter number of phrases : \")))\n",
    "str1 = input((\"Input data: \"))\n",
    "str2 = input((\"Input data: \"))\n",
    "str3 = input((\"Input data: \"))\n",
    "       \n",
    "if(str1 == str1[::-1]):\n",
    "    print(\"Y\")\n",
    "else:\n",
    "    print(\"N\")"
   ]
  },
  {
   "cell_type": "markdown",
   "id": "2d4118b0",
   "metadata": {},
   "source": [
    "## Assignment 2-2\n",
    "## Coding Exercise 4:"
   ]
  },
  {
   "cell_type": "code",
   "execution_count": 7,
   "id": "332c0569",
   "metadata": {},
   "outputs": [
    {
     "name": "stdout",
     "output_type": "stream",
     "text": [
      "[37, 'male', 20.22]\n"
     ]
    }
   ],
   "source": [
    "#Create a list with one number, one word and one float value\n",
    "list1 = [37, \"male\", 20.22]\n",
    "print(list1)"
   ]
  },
  {
   "cell_type": "code",
   "execution_count": 8,
   "id": "d28863d6",
   "metadata": {},
   "outputs": [
    {
     "name": "stdout",
     "output_type": "stream",
     "text": [
      "2\n"
     ]
    }
   ],
   "source": [
    "#grab the value of 2 from the list\n",
    "nestedlist = [1,1,[1,2]]\n",
    "print(nestedlist[2][1])"
   ]
  },
  {
   "cell_type": "code",
   "execution_count": 9,
   "id": "867284a0",
   "metadata": {},
   "outputs": [
    {
     "name": "stdout",
     "output_type": "stream",
     "text": [
      "['b', 'c']\n"
     ]
    }
   ],
   "source": [
    "#What is the result of lst[1:]?\n",
    "lst = ['a','b','c']\n",
    "print(lst[1:])"
   ]
  },
  {
   "cell_type": "code",
   "execution_count": 10,
   "id": "3c6c8eff",
   "metadata": {},
   "outputs": [
    {
     "name": "stdout",
     "output_type": "stream",
     "text": [
      "{'Monday': 7, 'Tuesday': 8, 'Wednesday': 9, 'Thursday': 10, 'Friday': 11, 'Saturday': 12, 'Sunday': 13}\n"
     ]
    }
   ],
   "source": [
    "#Create a dictionary with weekdays with keys and values\n",
    "weekdays = {\n",
    "    \"Monday\" : 7,\n",
    "    \"Tuesday\" : 8,\n",
    "    \"Wednesday\" : 9,\n",
    "    \"Thursday\" : 10,\n",
    "    \"Friday\" : 11,\n",
    "    \"Saturday\" : 12,\n",
    "    \"Sunday\" : 13\n",
    "    \n",
    "}\n",
    "print(weekdays)"
   ]
  },
  {
   "cell_type": "code",
   "execution_count": 11,
   "id": "c3c35312",
   "metadata": {},
   "outputs": [
    {
     "name": "stdout",
     "output_type": "stream",
     "text": [
      "2\n"
     ]
    }
   ],
   "source": [
    "#what is the output of d[k1][1]\n",
    "D={'k1':[1,2,3]} \n",
    "print(D['k1'][1])"
   ]
  },
  {
   "cell_type": "code",
   "execution_count": 12,
   "id": "733f1eef",
   "metadata": {},
   "outputs": [
    {
     "name": "stdout",
     "output_type": "stream",
     "text": [
      "(1, [2, 3])\n"
     ]
    }
   ],
   "source": [
    "#convert list into a tuple\n",
    "def convert(list):\n",
    "    return tuple(list)\n",
    "\n",
    "# Driver function\n",
    "list = [1,[2,3]]\n",
    "print(convert(list))"
   ]
  },
  {
   "cell_type": "code",
   "execution_count": 13,
   "id": "f85e2262",
   "metadata": {},
   "outputs": [
    {
     "data": {
      "text/plain": [
       "{'M', 'i', 'p', 's'}"
      ]
     },
     "execution_count": 13,
     "metadata": {},
     "output_type": "execute_result"
    }
   ],
   "source": [
    "#turn the word ‘Mississippi’ to distinct character word\n",
    "set('Mississippi')"
   ]
  },
  {
   "cell_type": "code",
   "execution_count": 14,
   "id": "eb8130a4",
   "metadata": {},
   "outputs": [
    {
     "name": "stdout",
     "output_type": "stream",
     "text": [
      "{'M', 's', 'i', 'X', 'p'}\n"
     ]
    }
   ],
   "source": [
    "#add an element ‘X’ to the above created set\n",
    "add_set = {'M', 'i', 'p', 's'}\n",
    "add_set.add('X')\n",
    "print(add_set)"
   ]
  },
  {
   "cell_type": "code",
   "execution_count": 15,
   "id": "66f927ef",
   "metadata": {},
   "outputs": [
    {
     "name": "stdout",
     "output_type": "stream",
     "text": [
      "[2002, 2009, 2016, 2023, 2037, 2044, 2051, 2058, 2072, 2079, 2086, 2093, 2107, 2114, 2121, 2128, 2142, 2149, 2156, 2163, 2177, 2184, 2191, 2198, 2212, 2219, 2226, 2233, 2247, 2254, 2261, 2268, 2282, 2289, 2296, 2303, 2317, 2324, 2331, 2338, 2352, 2359, 2366, 2373, 2387, 2394, 2401, 2408, 2422, 2429, 2436, 2443, 2457, 2464, 2471, 2478, 2492, 2499, 2506, 2513, 2527, 2534, 2541, 2548, 2562, 2569, 2576, 2583, 2597, 2604, 2611, 2618, 2632, 2639, 2646, 2653, 2667, 2674, 2681, 2688, 2702, 2709, 2716, 2723, 2737, 2744, 2751, 2758, 2772, 2779, 2786, 2793, 2807, 2814, 2821, 2828, 2842, 2849, 2856, 2863, 2877, 2884, 2891, 2898, 2912, 2919, 2926, 2933, 2947, 2954, 2961, 2968, 2982, 2989, 2996, 3003, 3017, 3024, 3031, 3038, 3052, 3059, 3066, 3073, 3087, 3094, 3101, 3108, 3122, 3129, 3136, 3143, 3157, 3164, 3171, 3178, 3192, 3199]\n"
     ]
    }
   ],
   "source": [
    "#Question 1\n",
    "#Write a program which will find all such numbers \n",
    "#which are divisible by 7 but are not a multiple of 5,\n",
    "#between 2000 and 3200 (both included).\n",
    "lst = [i for i in range(2000, 3200) if i % 7 == 0 if i % 5 != 0] \n",
    "print(lst)"
   ]
  },
  {
   "cell_type": "code",
   "execution_count": 16,
   "id": "0c6bac56",
   "metadata": {},
   "outputs": [
    {
     "name": "stdout",
     "output_type": "stream",
     "text": [
      "The factorial of 8 is 40320\n"
     ]
    }
   ],
   "source": [
    "#Question 2\n",
    "#Write a program which can compute the factorial of a given numbers\n",
    "def fact(x):\n",
    "    if x == 0:\n",
    "        return 1\n",
    "    else:\n",
    "        return (x * fact(x - 1))\n",
    "num = 8\n",
    "result = fact(num)\n",
    "print(\"The factorial of\", num, \"is\", result)"
   ]
  },
  {
   "cell_type": "code",
   "execution_count": 17,
   "id": "506a6b48",
   "metadata": {},
   "outputs": [
    {
     "name": "stdout",
     "output_type": "stream",
     "text": [
      "Type a number:5\n",
      "The output should be: {1: 1, 2: 4, 3: 9, 4: 16, 5: 25}\n"
     ]
    }
   ],
   "source": [
    "#Question 3\n",
    "#write a program to generate a dictionary that contains (i, i*i) \n",
    "n=int(input(\"Type a number:\"))\n",
    "d = {}\n",
    "for i in range(1,n+1):\n",
    "    d[i]=i*i\n",
    "      \n",
    "print(\"The output should be:\", d)"
   ]
  },
  {
   "cell_type": "code",
   "execution_count": 18,
   "id": "8371979d",
   "metadata": {},
   "outputs": [
    {
     "name": "stdout",
     "output_type": "stream",
     "text": [
      "Type a number:34,67,55,33,12,98\n",
      "List :  ['34', '67', '55', '33', '12', '98']\n",
      "Tuple :  ('34', '67', '55', '33', '12', '98')\n"
     ]
    }
   ],
   "source": [
    "#Question 4\n",
    "#Write a program to generate a list and a tuple which contains every number\n",
    "values=input(\"Type a number:\")\n",
    "l=values.split(\",\")\n",
    "t=tuple(l)\n",
    "\n",
    "print('List : ', l)\n",
    "print('Tuple : ', t)"
   ]
  },
  {
   "cell_type": "code",
   "execution_count": 19,
   "id": "a71c7adb",
   "metadata": {},
   "outputs": [
    {
     "name": "stdout",
     "output_type": "stream",
     "text": [
      "bekalu\n",
      "BEKALU\n"
     ]
    }
   ],
   "source": [
    "#Question 5. a function to test the class methods\n",
    "class InputOutString():\n",
    "    def getString(self):\n",
    "        self.s = input()\n",
    "    \n",
    "    def printString(self):\n",
    "        print(self.s.upper())\n",
    "sObj = InputOutString()\n",
    "sObj.getString()\n",
    "sObj.printString()"
   ]
  },
  {
   "cell_type": "markdown",
   "id": "f1b2880e",
   "metadata": {},
   "source": [
    "## Assignment 2-3\n",
    "## Coding Exercise 6:"
   ]
  },
  {
   "cell_type": "code",
   "execution_count": 20,
   "id": "f4d2af43",
   "metadata": {},
   "outputs": [
    {
     "name": "stdout",
     "output_type": "stream",
     "text": [
      "The room being crowded\n"
     ]
    }
   ],
   "source": [
    "#Make a list of names at least four people\n",
    "#Write an if test that prints a message about the room being crowded\n",
    "peoples = ['Alex', 'Brian', 'Keven', 'Messi']\n",
    "if len(peoples) > 3:\n",
    "    print(\"The room being crowded\")"
   ]
  },
  {
   "cell_type": "code",
   "execution_count": 21,
   "id": "7517f1a5",
   "metadata": {},
   "outputs": [
    {
     "name": "stdout",
     "output_type": "stream",
     "text": [
      "['Alex', 'Brian']\n"
     ]
    }
   ],
   "source": [
    "#Modify your list so that there are only two people in it\n",
    "#remove elements using del keyword\n",
    "peoples = ['Alex', 'Brian', 'Keven', 'Messi']\n",
    "del peoples[2:]\n",
    "print(peoples)"
   ]
  },
  {
   "cell_type": "code",
   "execution_count": 22,
   "id": "8e528d25",
   "metadata": {},
   "outputs": [],
   "source": [
    "#Modify your list so that there are only two people \n",
    "peoples = ['Alex', 'Brian']\n",
    "if len(peoples) > 3:\n",
    "    print(\"The room being crowded\")"
   ]
  },
  {
   "cell_type": "code",
   "execution_count": 23,
   "id": "7d0d0ddf",
   "metadata": {},
   "outputs": [
    {
     "name": "stdout",
     "output_type": "stream",
     "text": [
      "['Alex', 'Brian']\n"
     ]
    }
   ],
   "source": [
    "#Bonus: Store your if test in a function called something like crowd_test\n",
    "peoples = ['Alex', 'Brian']\n",
    "crowd_test = peoples\n",
    "print(crowd_test)"
   ]
  },
  {
   "cell_type": "code",
   "execution_count": 24,
   "id": "4abdf2ac",
   "metadata": {},
   "outputs": [
    {
     "name": "stdout",
     "output_type": "stream",
     "text": [
      "The room is not very crowded\n"
     ]
    }
   ],
   "source": [
    "#Three is a Crowd - Part 2\n",
    "crowd_test = peoples\n",
    "if len(peoples) > 3:\n",
    "    print(\"The room being crowded\")\n",
    "else:\n",
    "    print(\"The room is not very crowded\")"
   ]
  },
  {
   "cell_type": "code",
   "execution_count": 25,
   "id": "199a3bf7",
   "metadata": {},
   "outputs": [
    {
     "name": "stdout",
     "output_type": "stream",
     "text": [
      "There being a mob in the room.\n"
     ]
    }
   ],
   "source": [
    "#Add names at least six people in the list\n",
    "#If there are more than 5 people\n",
    "crowd_test = ['Alex', 'Brian', 'Keven', 'Messi', 'Tade', 'Henok', 'Yalew']\n",
    "if len(crowd_test) >= 5:\n",
    "    print(\"There being a mob in the room.\")\n",
    "elif len(crowd_test) >= 3:\n",
    "    print(\"The room being crowded\")\n",
    "elif len(crowd_test) >= 2:\n",
    "    print(\"The room not being crowded\")\n",
    "else:\n",
    "    print(\"The room being empty.\")"
   ]
  },
  {
   "cell_type": "code",
   "execution_count": 26,
   "id": "6b71a01b",
   "metadata": {},
   "outputs": [
    {
     "name": "stdout",
     "output_type": "stream",
     "text": [
      "The room being crowded\n"
     ]
    }
   ],
   "source": [
    "#If there are 3-5 people,modify your tests \n",
    "crowd_test = ['Alex', 'Brian', 'Keven', 'Messi']\n",
    "if len(crowd_test) >= 5:\n",
    "    print(\"There being a mob in the room.\")\n",
    "elif len(crowd_test) >= 3:\n",
    "    print(\"The room being crowded\")\n",
    "elif len(crowd_test) >= 2:\n",
    "    print(\"The room not being crowded\")\n",
    "else:\n",
    "    print(\"The room being empty.\")"
   ]
  },
  {
   "cell_type": "code",
   "execution_count": 27,
   "id": "e28d25b6",
   "metadata": {},
   "outputs": [
    {
     "name": "stdout",
     "output_type": "stream",
     "text": [
      "The room not being crowded\n"
     ]
    }
   ],
   "source": [
    "#If there are 1 or 2 people\n",
    "crowd_test = ['Alex', 'Brian']\n",
    "if len(crowd_test) >= 5:\n",
    "    print(\"There being a mob in the room.\")\n",
    "elif len(crowd_test) >= 3:\n",
    "    print(\"The room being crowded\")\n",
    "elif len(crowd_test) >= 2:\n",
    "    print(\"The room not being crowded\")\n",
    "else:\n",
    "    print(\"The room being empty.\")"
   ]
  },
  {
   "cell_type": "code",
   "execution_count": 28,
   "id": "6812e3f4",
   "metadata": {},
   "outputs": [
    {
     "name": "stdout",
     "output_type": "stream",
     "text": [
      "The room being empty.\n"
     ]
    }
   ],
   "source": [
    "#If there are no people in the room\n",
    "crowd_test = []\n",
    "if len(crowd_test) >= 5:\n",
    "    print(\"There being a mob in the room.\")\n",
    "elif len(crowd_test) >= 3:\n",
    "    print(\"The room being crowded\")\n",
    "elif len(crowd_test) >= 2:\n",
    "    print(\"The room not being crowded\")\n",
    "else:\n",
    "    print(\"The room being empty.\")"
   ]
  },
  {
   "cell_type": "code",
   "execution_count": null,
   "id": "3e549faa",
   "metadata": {},
   "outputs": [],
   "source": []
  }
 ],
 "metadata": {
  "kernelspec": {
   "display_name": "Python 3 (ipykernel)",
   "language": "python",
   "name": "python3"
  },
  "language_info": {
   "codemirror_mode": {
    "name": "ipython",
    "version": 3
   },
   "file_extension": ".py",
   "mimetype": "text/x-python",
   "name": "python",
   "nbconvert_exporter": "python",
   "pygments_lexer": "ipython3",
   "version": "3.9.7"
  }
 },
 "nbformat": 4,
 "nbformat_minor": 5
}
