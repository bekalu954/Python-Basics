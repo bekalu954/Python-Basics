{
 "cells": [
  {
   "cell_type": "markdown",
   "id": "1df1289e",
   "metadata": {},
   "source": [
    "## Assignment 1-2"
   ]
  },
  {
   "cell_type": "code",
   "execution_count": 1,
   "id": "f5ca0fe4",
   "metadata": {},
   "outputs": [
    {
     "name": "stdout",
     "output_type": "stream",
     "text": [
      "100\n",
      "90\n"
     ]
    }
   ],
   "source": [
    "print (50 + 50) \n",
    "print (100 - 10)"
   ]
  },
  {
   "cell_type": "code",
   "execution_count": 2,
   "id": "3ebcc83f",
   "metadata": {},
   "outputs": [
    {
     "name": "stdout",
     "output_type": "stream",
     "text": [
      "0\n",
      "46656\n",
      "36\n"
     ]
    }
   ],
   "source": [
    "'print (30 +* 6)' #invalid syntax operator\n",
    "print (6 ^ 6)\n",
    "print (6 ** 6)\n",
    "print (6 + 6 + 6 + 6 + 6 + 6)"
   ]
  },
  {
   "cell_type": "code",
   "execution_count": 3,
   "id": "248ba403",
   "metadata": {},
   "outputs": [
    {
     "name": "stdout",
     "output_type": "stream",
     "text": [
      "Hello World:10\n"
     ]
    }
   ],
   "source": [
    "txt = \"Hello World:{}\"\n",
    "num = 10\n",
    "print(txt.format(num))"
   ]
  },
  {
   "cell_type": "code",
   "execution_count": 4,
   "id": "3ce22027",
   "metadata": {},
   "outputs": [
    {
     "name": "stdout",
     "output_type": "stream",
     "text": [
      "Enter loan amount \n",
      "800000\n",
      "Enter Interest Rate \n",
      "6\n",
      "How many months will you have the loan? \n",
      "103\n",
      "Answer: \n",
      "\n",
      "9957\n"
     ]
    }
   ],
   "source": [
    "#Input loan amount. Then converts to float\n",
    "loanAmount = input('Enter loan amount \\n')\n",
    "loanAmount = float(loanAmount)\n",
    "\n",
    "# Input interest rate. Then converts to float and input interest rate is /100/12\n",
    "interestRate = input('Enter Interest Rate \\n')\n",
    "interestRate = float(interestRate) / 100 / 12\n",
    "\n",
    "#Total number of months\n",
    "months = input('How many months will you have the loan? \\n')\n",
    "months = float(months)\n",
    "\n",
    "# Formula to calculate monthly payments\n",
    "mortgagePayment = loanAmount * ((interestRate * ((1 + interestRate) ** months)) / ((1 + interestRate) ** months - 1))\n",
    "print(\"Answer: \\n\")\n",
    "# Prints monthly payment on next line and reformat the string to a float using 2 decimal places\n",
    "print(round(mortgagePayment))"
   ]
  },
  {
   "cell_type": "code",
   "execution_count": null,
   "id": "53df8198",
   "metadata": {},
   "outputs": [],
   "source": []
  }
 ],
 "metadata": {
  "kernelspec": {
   "display_name": "Python 3 (ipykernel)",
   "language": "python",
   "name": "python3"
  },
  "language_info": {
   "codemirror_mode": {
    "name": "ipython",
    "version": 3
   },
   "file_extension": ".py",
   "mimetype": "text/x-python",
   "name": "python",
   "nbconvert_exporter": "python",
   "pygments_lexer": "ipython3",
   "version": "3.9.7"
  }
 },
 "nbformat": 4,
 "nbformat_minor": 5
}
